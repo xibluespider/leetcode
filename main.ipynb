{
 "cells": [
  {
   "cell_type": "code",
   "execution_count": 2,
   "metadata": {},
   "outputs": [],
   "source": [
    "import random"
   ]
  },
  {
   "cell_type": "code",
   "execution_count": 3,
   "metadata": {},
   "outputs": [],
   "source": [
    "def getRandomValues(length = 10, low = 0, high = 100):\n",
    "    values = [random.randint(low, high) for _ in range(length)]\n",
    "    return values"
   ]
  },
  {
   "cell_type": "code",
   "execution_count": 4,
   "metadata": {},
   "outputs": [],
   "source": [
    "# values = list(range(10))\n",
    "values = getRandomValues()"
   ]
  },
  {
   "cell_type": "code",
   "execution_count": 5,
   "metadata": {},
   "outputs": [
    {
     "data": {
      "text/plain": [
       "[46, 30, 3, 44, 11, 29, 42, 81, 73, 59]"
      ]
     },
     "execution_count": 5,
     "metadata": {},
     "output_type": "execute_result"
    }
   ],
   "source": [
    "values"
   ]
  },
  {
   "cell_type": "code",
   "execution_count": 6,
   "metadata": {},
   "outputs": [],
   "source": [
    "left , right = 0 , len(values) - 1"
   ]
  },
  {
   "cell_type": "code",
   "execution_count": 8,
   "metadata": {},
   "outputs": [
    {
     "name": "stdout",
     "output_type": "stream",
     "text": [
      "46 42\n",
      "30 44\n"
     ]
    }
   ],
   "source": [
    "left , right = 0 , len(values) - 1\n",
    "while left < right:\n",
    "    \n",
    "    while left < len(values)-1:\n",
    "        if values[left]%2==0:break\n",
    "        left+=1\n",
    "\n",
    "    while right >= 0:\n",
    "        if values[right]%2==0:break\n",
    "        right-=1\n",
    "    \n",
    "    if not left<right: break\n",
    "\n",
    "    print(values[left], values[right])\n",
    "    left , right = left + 1 , right - 1"
   ]
  },
  {
   "cell_type": "code",
   "execution_count": 9,
   "metadata": {},
   "outputs": [
    {
     "name": "stdout",
     "output_type": "stream",
     "text": [
      "46 42\n",
      "30 44\n"
     ]
    }
   ],
   "source": [
    "left , right = 0 , len(values) - 1\n",
    "\n",
    "while left < right:\n",
    "\n",
    "    while left < right:\n",
    "        if values[left]%2==0:break\n",
    "        left += 1\n",
    "    \n",
    "    while left < right:\n",
    "        if values[right]%2==0:break\n",
    "        right-=1\n",
    "\n",
    "    if not left<right:break\n",
    "\n",
    "    print(values[left], values[right])\n",
    "    left , right = left + 1 , right - 1"
   ]
  },
  {
   "cell_type": "code",
   "execution_count": 7,
   "metadata": {},
   "outputs": [
    {
     "name": "stdout",
     "output_type": "stream",
     "text": [
      "46 42\n",
      "30 44\n"
     ]
    }
   ],
   "source": [
    "left , right = 0 , len(values) - 1\n",
    "\n",
    "while left < right:\n",
    "\n",
    "    while left < right:\n",
    "        if values[left]%2==0:break\n",
    "        left += 1\n",
    "    \n",
    "    while left < right:\n",
    "        if values[right]%2==0:break\n",
    "        right-=1\n",
    "\n",
    "    if not left<right:break\n",
    "\n",
    "    print(values[left], values[right])\n",
    "    left , right = left + 1 , right - 1"
   ]
  },
  {
   "cell_type": "code",
   "execution_count": 10,
   "metadata": {},
   "outputs": [
    {
     "name": "stdout",
     "output_type": "stream",
     "text": [
      "46 42\n",
      "30 44\n"
     ]
    }
   ],
   "source": [
    "left , right = 0 , len(values)-1\n",
    "\n",
    "while left<right:\n",
    "    \n",
    "    if values[left]%2!=0:\n",
    "        left+=1\n",
    "        continue\n",
    "    if values[right]%2!=0:\n",
    "        right-=1\n",
    "        continue\n",
    "\n",
    "    print(values[left], values[right])\n",
    "\n",
    "    left , right = left + 1 , right - 1"
   ]
  }
 ],
 "metadata": {
  "kernelspec": {
   "display_name": "Python 3",
   "language": "python",
   "name": "python3"
  },
  "language_info": {
   "codemirror_mode": {
    "name": "ipython",
    "version": 3
   },
   "file_extension": ".py",
   "mimetype": "text/x-python",
   "name": "python",
   "nbconvert_exporter": "python",
   "pygments_lexer": "ipython3",
   "version": "3.10.13"
  }
 },
 "nbformat": 4,
 "nbformat_minor": 2
}
