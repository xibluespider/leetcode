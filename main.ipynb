{
 "cells": [
  {
   "cell_type": "code",
   "execution_count": 65,
   "metadata": {},
   "outputs": [
    {
     "name": "stdout",
     "output_type": "stream",
     "text": [
      "rondamword\n"
     ]
    },
    {
     "data": {
      "text/plain": [
       "'rondamword'"
      ]
     },
     "execution_count": 65,
     "metadata": {},
     "output_type": "execute_result"
    }
   ],
   "source": [
    "word = \"randomword\"\n",
    "\n",
    "def swap(word, left, right):\n",
    "    swap_result = word[:left] + word[right] + word[left+1:right] + word[left] + word[right+1:]\n",
    "    print(swap_result)\n",
    "    return swap_result\n",
    "\n",
    "swap(word, 1,4)"
   ]
  },
  {
   "cell_type": "code",
   "execution_count": 66,
   "metadata": {},
   "outputs": [],
   "source": [
    "vowels = \"aeiouAEIOU\"\n",
    "\n",
    "xvowels = dict()\n",
    "for index, echar in enumerate(word):\n",
    "    if echar not in vowels: continue\n",
    "    xvowels[echar] = index"
   ]
  },
  {
   "cell_type": "code",
   "execution_count": 71,
   "metadata": {},
   "outputs": [],
   "source": [
    "ivowels = xvowels.keys()"
   ]
  },
  {
   "cell_type": "code",
   "execution_count": 67,
   "metadata": {},
   "outputs": [
    {
     "data": {
      "text/plain": [
       "'o'"
      ]
     },
     "execution_count": 67,
     "metadata": {},
     "output_type": "execute_result"
    }
   ],
   "source": [
    "list(ivowels).pop()"
   ]
  },
  {
   "cell_type": "code",
   "execution_count": 68,
   "metadata": {},
   "outputs": [],
   "source": [
    "word = \"leetcode\""
   ]
  },
  {
   "cell_type": "code",
   "execution_count": 69,
   "metadata": {},
   "outputs": [
    {
     "data": {
      "text/plain": [
       "{1: 'e', 2: 'e', 5: 'o', 7: 'e'}"
      ]
     },
     "execution_count": 69,
     "metadata": {},
     "output_type": "execute_result"
    }
   ],
   "source": [
    "vowels_tracker = dict()\n",
    "\n",
    "for index,echar in enumerate(word):\n",
    "    if echar not in vowels: continue\n",
    "    vowels_tracker[index] = echar\n",
    "\n",
    "vowels_tracker"
   ]
  },
  {
   "cell_type": "code",
   "execution_count": 70,
   "metadata": {},
   "outputs": [
    {
     "name": "stdout",
     "output_type": "stream",
     "text": [
      "not in vowel positions\n",
      "0 l\n",
      "in vowel positions\n",
      "1 e\n",
      "in vowel positions\n",
      "2 o\n",
      "not in vowel positions\n",
      "3 t\n",
      "not in vowel positions\n",
      "4 c\n",
      "in vowel positions\n",
      "5 e\n",
      "not in vowel positions\n",
      "6 d\n",
      "in vowel positions\n",
      "7 e\n"
     ]
    }
   ],
   "source": [
    "result = \"\"\n",
    "\n",
    "vowel_positions = list(vowels_tracker.keys());\n",
    "vowel_values = list(vowels_tracker.values());\n",
    "\n",
    "for index, echar in enumerate(word):\n",
    "    if index in vowel_positions:\n",
    "        print(\"in vowel positions\")\n",
    "        print(index, vowel_values.pop())\n",
    "    else:\n",
    "        print(\"not in vowel positions\")\n",
    "        print(index, echar)\n"
   ]
  },
  {
   "cell_type": "code",
   "execution_count": null,
   "metadata": {},
   "outputs": [],
   "source": []
  }
 ],
 "metadata": {
  "kernelspec": {
   "display_name": "Python 3",
   "language": "python",
   "name": "python3"
  },
  "language_info": {
   "codemirror_mode": {
    "name": "ipython",
    "version": 3
   },
   "file_extension": ".py",
   "mimetype": "text/x-python",
   "name": "python",
   "nbconvert_exporter": "python",
   "pygments_lexer": "ipython3",
   "version": "3.10.13"
  }
 },
 "nbformat": 4,
 "nbformat_minor": 2
}
